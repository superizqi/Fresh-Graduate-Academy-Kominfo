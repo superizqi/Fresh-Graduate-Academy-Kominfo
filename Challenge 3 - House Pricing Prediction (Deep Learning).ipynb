{
 "cells": [
  {
   "cell_type": "code",
   "execution_count": 2,
   "metadata": {},
   "outputs": [],
   "source": [
    "# pip install keras"
   ]
  },
  {
   "cell_type": "code",
   "execution_count": null,
   "metadata": {},
   "outputs": [],
   "source": [
    "from keras.models import Sequential\n",
    "from keras.layers import Dense\n",
    "import pandas as pd\n",
    "import matplotlib.pyplot as plt"
   ]
  },
  {
   "cell_type": "code",
   "execution_count": 56,
   "metadata": {},
   "outputs": [
    {
     "data": {
      "text/html": [
       "<div>\n",
       "<style scoped>\n",
       "    .dataframe tbody tr th:only-of-type {\n",
       "        vertical-align: middle;\n",
       "    }\n",
       "\n",
       "    .dataframe tbody tr th {\n",
       "        vertical-align: top;\n",
       "    }\n",
       "\n",
       "    .dataframe thead th {\n",
       "        text-align: right;\n",
       "    }\n",
       "</style>\n",
       "<table border=\"1\" class=\"dataframe\">\n",
       "  <thead>\n",
       "    <tr style=\"text-align: right;\">\n",
       "      <th></th>\n",
       "      <th>UNDER_CONSTRUCTION</th>\n",
       "      <th>RERA</th>\n",
       "      <th>BHK_NO.</th>\n",
       "      <th>SQUARE_FT</th>\n",
       "      <th>READY_TO_MOVE</th>\n",
       "      <th>RESALE</th>\n",
       "      <th>TARGET(PRICE_IN_LACS)</th>\n",
       "    </tr>\n",
       "  </thead>\n",
       "  <tbody>\n",
       "    <tr>\n",
       "      <th>0</th>\n",
       "      <td>0</td>\n",
       "      <td>0</td>\n",
       "      <td>2</td>\n",
       "      <td>1300.236407</td>\n",
       "      <td>1</td>\n",
       "      <td>1</td>\n",
       "      <td>55.0</td>\n",
       "    </tr>\n",
       "    <tr>\n",
       "      <th>1</th>\n",
       "      <td>0</td>\n",
       "      <td>0</td>\n",
       "      <td>2</td>\n",
       "      <td>1275.000000</td>\n",
       "      <td>1</td>\n",
       "      <td>1</td>\n",
       "      <td>51.0</td>\n",
       "    </tr>\n",
       "    <tr>\n",
       "      <th>2</th>\n",
       "      <td>0</td>\n",
       "      <td>0</td>\n",
       "      <td>2</td>\n",
       "      <td>933.159722</td>\n",
       "      <td>1</td>\n",
       "      <td>1</td>\n",
       "      <td>43.0</td>\n",
       "    </tr>\n",
       "    <tr>\n",
       "      <th>3</th>\n",
       "      <td>0</td>\n",
       "      <td>1</td>\n",
       "      <td>2</td>\n",
       "      <td>929.921143</td>\n",
       "      <td>1</td>\n",
       "      <td>1</td>\n",
       "      <td>62.5</td>\n",
       "    </tr>\n",
       "    <tr>\n",
       "      <th>4</th>\n",
       "      <td>1</td>\n",
       "      <td>0</td>\n",
       "      <td>2</td>\n",
       "      <td>999.009247</td>\n",
       "      <td>0</td>\n",
       "      <td>1</td>\n",
       "      <td>60.5</td>\n",
       "    </tr>\n",
       "  </tbody>\n",
       "</table>\n",
       "</div>"
      ],
      "text/plain": [
       "   UNDER_CONSTRUCTION  RERA  BHK_NO.    SQUARE_FT  READY_TO_MOVE  RESALE  \\\n",
       "0                   0     0        2  1300.236407              1       1   \n",
       "1                   0     0        2  1275.000000              1       1   \n",
       "2                   0     0        2   933.159722              1       1   \n",
       "3                   0     1        2   929.921143              1       1   \n",
       "4                   1     0        2   999.009247              0       1   \n",
       "\n",
       "   TARGET(PRICE_IN_LACS)  \n",
       "0                   55.0  \n",
       "1                   51.0  \n",
       "2                   43.0  \n",
       "3                   62.5  \n",
       "4                   60.5  "
      ]
     },
     "execution_count": 56,
     "metadata": {},
     "output_type": "execute_result"
    }
   ],
   "source": [
    "df = pd.read_csv(\"data/house-pricing/train.csv\")\n",
    "dfp = df.drop(columns = ['POSTED_BY','BHK_OR_RK','LONGITUDE','LATITUDE','ADDRESS'])\n",
    "dfp.head()"
   ]
  },
  {
   "cell_type": "code",
   "execution_count": 57,
   "metadata": {},
   "outputs": [],
   "source": [
    "x = dfp.drop(columns = ['TARGET(PRICE_IN_LACS)'])\n",
    "y = dfp['TARGET(PRICE_IN_LACS)']"
   ]
  },
  {
   "cell_type": "code",
   "execution_count": 58,
   "metadata": {},
   "outputs": [
    {
     "name": "stdout",
     "output_type": "stream",
     "text": [
      "Model: \"sequential_7\"\n",
      "_________________________________________________________________\n",
      "Layer (type)                 Output Shape              Param #   \n",
      "=================================================================\n",
      "dense_14 (Dense)             (None, 6)                 42        \n",
      "_________________________________________________________________\n",
      "dense_15 (Dense)             (None, 1)                 7         \n",
      "=================================================================\n",
      "Total params: 49\n",
      "Trainable params: 49\n",
      "Non-trainable params: 0\n",
      "_________________________________________________________________\n"
     ]
    }
   ],
   "source": [
    "# source : https://machinelearningmastery.com/regression-tutorial-keras-deep-learning-library-python/\n",
    "# Inisiasi Model \n",
    "# Ini intinya yang harus dipahamin dan saya belum paham hehe\n",
    "model = Sequential()\n",
    "model.add(Dense(6, input_dim=6, kernel_initializer='normal', activation='relu'))\n",
    "model.add(Dense(1, kernel_initializer='normal'))\n",
    "\n",
    "# Compile model\n",
    "model.compile(loss='mean_squared_error', optimizer='adam',metrics=['mean_squared_error'])\n",
    "\n",
    "# Summary\n",
    "model.summary()"
   ]
  },
  {
   "cell_type": "code",
   "execution_count": 59,
   "metadata": {},
   "outputs": [
    {
     "name": "stdout",
     "output_type": "stream",
     "text": [
      "Epoch 1/50\n",
      "921/921 [==============================] - 1s 1ms/step - loss: 887963776.0000 - mean_squared_error: 887963776.0000\n",
      "Epoch 2/50\n",
      "921/921 [==============================] - 1s 1ms/step - loss: 261194784.0000 - mean_squared_error: 261194784.0000\n",
      "Epoch 3/50\n",
      "921/921 [==============================] - 2s 2ms/step - loss: 1955001.3750 - mean_squared_error: 1955001.3750\n",
      "Epoch 4/50\n",
      "921/921 [==============================] - 1s 1ms/step - loss: 602358.1875 - mean_squared_error: 602358.1875\n",
      "Epoch 5/50\n",
      "921/921 [==============================] - 1s 2ms/step - loss: 582656.0000 - mean_squared_error: 582656.0000\n",
      "Epoch 6/50\n",
      "921/921 [==============================] - 1s 1ms/step - loss: 2367813.2500 - mean_squared_error: 2367813.2500\n",
      "Epoch 7/50\n",
      "921/921 [==============================] - 2s 2ms/step - loss: 68114184.0000 - mean_squared_error: 68114184.0000\n",
      "Epoch 8/50\n",
      "921/921 [==============================] - 1s 1ms/step - loss: 10212133.0000 - mean_squared_error: 10212133.0000\n",
      "Epoch 9/50\n",
      "921/921 [==============================] - 1s 1ms/step - loss: 49446084.0000 - mean_squared_error: 49446084.0000\n",
      "Epoch 10/50\n",
      "921/921 [==============================] - 2s 2ms/step - loss: 2243921.0000 - mean_squared_error: 2243921.0000\n",
      "Epoch 11/50\n",
      "921/921 [==============================] - 1s 1ms/step - loss: 14762751.0000 - mean_squared_error: 14762751.0000\n",
      "Epoch 12/50\n",
      "921/921 [==============================] - 1s 1ms/step - loss: 7760077.5000 - mean_squared_error: 7760077.5000\n",
      "Epoch 13/50\n",
      "921/921 [==============================] - 1s 1ms/step - loss: 4354492.0000 - mean_squared_error: 4354492.0000\n",
      "Epoch 14/50\n",
      "921/921 [==============================] - 1s 1ms/step - loss: 33814940.0000 - mean_squared_error: 33814940.0000\n",
      "Epoch 15/50\n",
      "921/921 [==============================] - 1s 1ms/step - loss: 381370.4688 - mean_squared_error: 381370.4688\n",
      "Epoch 16/50\n",
      "921/921 [==============================] - 1s 1ms/step - loss: 390960.5938 - mean_squared_error: 390960.5938\n",
      "Epoch 17/50\n",
      "921/921 [==============================] - 1s 1ms/step - loss: 447091.0938 - mean_squared_error: 447091.0938\n",
      "Epoch 18/50\n",
      "921/921 [==============================] - 1s 1ms/step - loss: 2564826.7500 - mean_squared_error: 2564826.7500\n",
      "Epoch 19/50\n",
      "921/921 [==============================] - 1s 1ms/step - loss: 8883210.0000 - mean_squared_error: 8883210.0000\n",
      "Epoch 20/50\n",
      "921/921 [==============================] - 1s 1ms/step - loss: 2703803.0000 - mean_squared_error: 2703803.0000\n",
      "Epoch 21/50\n",
      "921/921 [==============================] - 1s 1ms/step - loss: 453931.4375 - mean_squared_error: 453931.4375: 1s - loss: 331760.\n",
      "Epoch 22/50\n",
      "921/921 [==============================] - 1s 1ms/step - loss: 586488.4375 - mean_squared_error: 586488.4375\n",
      "Epoch 23/50\n",
      "921/921 [==============================] - 1s 1ms/step - loss: 622734.3750 - mean_squared_error: 622734.3750\n",
      "Epoch 24/50\n",
      "921/921 [==============================] - 1s 1ms/step - loss: 1153232.5000 - mean_squared_error: 1153232.5000\n",
      "Epoch 25/50\n",
      "921/921 [==============================] - 1s 1ms/step - loss: 4680520.0000 - mean_squared_error: 4680520.0000\n",
      "Epoch 26/50\n",
      "921/921 [==============================] - 1s 1ms/step - loss: 451017.8438 - mean_squared_error: 451017.8438\n",
      "Epoch 27/50\n",
      "921/921 [==============================] - 1s 1ms/step - loss: 385045.8125 - mean_squared_error: 385045.8125\n",
      "Epoch 28/50\n",
      "921/921 [==============================] - 1s 1ms/step - loss: 381283.5312 - mean_squared_error: 381283.5312\n",
      "Epoch 29/50\n",
      "921/921 [==============================] - 1s 1ms/step - loss: 382004.3750 - mean_squared_error: 382004.3750\n",
      "Epoch 30/50\n",
      "921/921 [==============================] - 1s 1ms/step - loss: 378211.4062 - mean_squared_error: 378211.4062\n",
      "Epoch 31/50\n",
      "921/921 [==============================] - 1s 1ms/step - loss: 450075.6562 - mean_squared_error: 450075.6562\n",
      "Epoch 32/50\n",
      "921/921 [==============================] - 1s 1ms/step - loss: 448956.3438 - mean_squared_error: 448956.3438\n",
      "Epoch 33/50\n",
      "921/921 [==============================] - 1s 1ms/step - loss: 448758.6562 - mean_squared_error: 448758.6562\n",
      "Epoch 34/50\n",
      "921/921 [==============================] - 1s 1ms/step - loss: 448555.5000 - mean_squared_error: 448555.5000\n",
      "Epoch 35/50\n",
      "921/921 [==============================] - 1s 1ms/step - loss: 448345.0625 - mean_squared_error: 448345.0625\n",
      "Epoch 36/50\n",
      "921/921 [==============================] - 1s 1ms/step - loss: 448114.1875 - mean_squared_error: 448114.1875\n",
      "Epoch 37/50\n",
      "921/921 [==============================] - 1s 1ms/step - loss: 447831.5000 - mean_squared_error: 447831.5000\n",
      "Epoch 38/50\n",
      "921/921 [==============================] - 1s 1ms/step - loss: 447399.3438 - mean_squared_error: 447399.3438\n",
      "Epoch 39/50\n",
      "921/921 [==============================] - 1s 1ms/step - loss: 54313608.0000 - mean_squared_error: 54313608.0000\n",
      "Epoch 40/50\n",
      "921/921 [==============================] - 1s 1ms/step - loss: 4134207.7500 - mean_squared_error: 4134207.7500\n",
      "Epoch 41/50\n",
      "921/921 [==============================] - 1s 1ms/step - loss: 1329297.5000 - mean_squared_error: 1329297.5000\n",
      "Epoch 42/50\n",
      "921/921 [==============================] - 1s 1ms/step - loss: 541296.7500 - mean_squared_error: 541296.7500\n",
      "Epoch 43/50\n",
      "921/921 [==============================] - 1s 1ms/step - loss: 377620.2812 - mean_squared_error: 377620.2812\n",
      "Epoch 44/50\n",
      "921/921 [==============================] - 1s 2ms/step - loss: 386408.9062 - mean_squared_error: 386408.9062\n",
      "Epoch 45/50\n",
      "921/921 [==============================] - 1s 1ms/step - loss: 376001.0312 - mean_squared_error: 376001.0312\n",
      "Epoch 46/50\n",
      "921/921 [==============================] - 1s 1ms/step - loss: 6624541184.0000 - mean_squared_error: 6624541184.0000\n",
      "Epoch 47/50\n",
      "921/921 [==============================] - 1s 1ms/step - loss: 2864020224.0000 - mean_squared_error: 2864020224.0000\n",
      "Epoch 48/50\n",
      "921/921 [==============================] - 1s 1ms/step - loss: 1331636096.0000 - mean_squared_error: 1331636096.0000\n",
      "Epoch 49/50\n",
      "921/921 [==============================] - 1s 1ms/step - loss: 705117248.0000 - mean_squared_error: 705117248.0000\n",
      "Epoch 50/50\n",
      "921/921 [==============================] - 1s 2ms/step - loss: 366860864.0000 - mean_squared_error: 366860864.0000\n"
     ]
    }
   ],
   "source": [
    "# train\n",
    "history_model = model.fit(x,y,epochs=50)"
   ]
  },
  {
   "cell_type": "code",
   "execution_count": 60,
   "metadata": {},
   "outputs": [
    {
     "data": {
      "image/png": "[encoded data removed]",
      "text/plain": [
       "<Figure size 432x288 with 1 Axes>"
      ]
     },
     "metadata": {
      "needs_background": "light"
     },
     "output_type": "display_data"
    }
   ],
   "source": [
    "plt.plot(history_model.history['mean_squared_error'],color='green',marker='.')\n",
    "plt.title('Hasil MSE')\n",
    "plt.xlabel('epoch')\n",
    "plt.grid(color='darkgray', linestyle='-',alpha=0.5)\n",
    "plt.ylabel('MSE')\n",
    "plt.legend(['MSE'])\n",
    "plt.show()"
   ]
  },
  {
   "cell_type": "code",
   "execution_count": 62,
   "metadata": {},
   "outputs": [
    {
     "name": "stdout",
     "output_type": "stream",
     "text": [
      "MAX MSE : 6624541184.0\n",
      "EPOCH   : 46\n"
     ]
    }
   ],
   "source": [
    "mse_max = max(history_model.history['mean_squared_error'])\n",
    "epoch_mse = history_model.history['mean_squared_error'].index(max(history_model.history['mean_squared_error']))\n",
    "print(f'MAX MSE : {mse_max}')\n",
    "print(f'EPOCH   : {epoch_mse+1}')"
   ]
  },
  {
   "cell_type": "code",
   "execution_count": null,
   "metadata": {},
   "outputs": [],
   "source": []
  }
 ],
 "metadata": {
  "kernelspec": {
   "display_name": "Python 3",
   "language": "python",
   "name": "python3"
  },
  "language_info": {
   "codemirror_mode": {
    "name": "ipython",
    "version": 3
   },
   "file_extension": ".py",
   "mimetype": "text/x-python",
   "name": "python",
   "nbconvert_exporter": "python",
   "pygments_lexer": "ipython3",
   "version": "3.8.3"
  }
 },
 "nbformat": 4,
 "nbformat_minor": 4
}
