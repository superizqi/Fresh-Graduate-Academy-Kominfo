{
 "cells": [
  {
   "cell_type": "code",
   "execution_count": null,
   "metadata": {},
   "outputs": [],
   "source": [
    "# https://www.kaggle.com/anmolkumar/house-price-prediction-challenge\n",
    "\n",
    "import pandas as pd\n",
    "import numpy as np\n",
    "from sklearn import linear_model\n",
    "from sklearn.metrics import r2_score\n",
    "from sklearn.preprocessing import StandardScaler\n",
    "from sklearn.linear_model import LinearRegression\n",
    "from sklearn import metrics\n",
    "from sklearn.ensemble import RandomForestRegressor\n",
    "from sklearn.model_selection import train_test_split\n",
    "import seaborn as sns\n",
    "import matplotlib.pyplot as plt\n",
    "# import folium"
   ]
  },
  {
   "cell_type": "code",
   "execution_count": null,
   "metadata": {},
   "outputs": [],
   "source": [
    "data = pd.read_csv(\"data/house-pricing/train.csv\")\n",
    "data_test_asli = pd.read_csv(\"data/house-pricing/test.csv\")"
   ]
  },
  {
   "cell_type": "code",
   "execution_count": null,
   "metadata": {},
   "outputs": [],
   "source": [
    "data.head()"
   ]
  },
  {
   "cell_type": "code",
   "execution_count": null,
   "metadata": {},
   "outputs": [],
   "source": [
    "data.info()"
   ]
  },
  {
   "cell_type": "code",
   "execution_count": null,
   "metadata": {},
   "outputs": [],
   "source": [
    "data.describe()"
   ]
  },
  {
   "cell_type": "code",
   "execution_count": null,
   "metadata": {},
   "outputs": [],
   "source": [
    "# data_train = data_train_asli.drop(columns=['POSTED_BY','RERA','BHK_OR_RK','READY_TO_MOVE','RESALE','LONGITUDE','LATITUDE','ADDRESS'])"
   ]
  },
  {
   "cell_type": "code",
   "execution_count": null,
   "metadata": {},
   "outputs": [],
   "source": [
    "data.isnull().sum()"
   ]
  },
  {
   "cell_type": "code",
   "execution_count": null,
   "metadata": {},
   "outputs": [],
   "source": [
    "address = []\n",
    "for i in data['ADDRESS'].values:\n",
    "    \n",
    "    address.append(i.split(',')[1])\n",
    "    \n",
    "data['CITY_ADDRESS'] = address\n",
    "# data['CITY_ADDRESS'].value_counts()\n",
    "\n"
   ]
  },
  {
   "cell_type": "code",
   "execution_count": null,
   "metadata": {},
   "outputs": [],
   "source": [
    "data['CITY_ADDRESS']"
   ]
  },
  {
   "cell_type": "code",
   "execution_count": null,
   "metadata": {
    "scrolled": true
   },
   "outputs": [],
   "source": [
    "data_luas = data['SQUARE_FT'].values\n",
    "plt.plot(np.arange(len(data_luas)),data_luas)\n",
    "plt.title('Luas Rumah')"
   ]
  },
  {
   "cell_type": "code",
   "execution_count": null,
   "metadata": {},
   "outputs": [],
   "source": [
    "data.boxplot(column=['SQUARE_FT'])"
   ]
  },
  {
   "cell_type": "code",
   "execution_count": null,
   "metadata": {},
   "outputs": [],
   "source": [
    "data.boxplot(column=['BHK_NO.'])"
   ]
  },
  {
   "cell_type": "code",
   "execution_count": null,
   "metadata": {},
   "outputs": [],
   "source": [
    "data.boxplot(column=['TARGET(PRICE_IN_LACS)'])"
   ]
  },
  {
   "cell_type": "code",
   "execution_count": null,
   "metadata": {},
   "outputs": [],
   "source": [
    "data['SQUARE_FT'].hist()"
   ]
  },
  {
   "cell_type": "code",
   "execution_count": null,
   "metadata": {},
   "outputs": [],
   "source": [
    "data_harga = data['TARGET(PRICE_IN_LACS)'].values\n",
    "plt.plot(np.arange(len(data_harga)),data_harga)\n",
    "plt.title('Harga Rumah')"
   ]
  },
  {
   "cell_type": "code",
   "execution_count": null,
   "metadata": {},
   "outputs": [],
   "source": []
  },
  {
   "cell_type": "code",
   "execution_count": null,
   "metadata": {},
   "outputs": [],
   "source": [
    "data['TARGET(PRICE_IN_LACS)'].hist()"
   ]
  },
  {
   "cell_type": "code",
   "execution_count": null,
   "metadata": {},
   "outputs": [],
   "source": [
    "data = data[(data['TARGET(PRICE_IN_LACS)']<15000) & \n",
    "        (data['SQUARE_FT']<300000) & (data['BHK_NO.']<=8)]\n",
    "data.shape"
   ]
  },
  {
   "cell_type": "code",
   "execution_count": null,
   "metadata": {},
   "outputs": [],
   "source": [
    "data.describe()"
   ]
  },
  {
   "cell_type": "code",
   "execution_count": null,
   "metadata": {},
   "outputs": [],
   "source": [
    "# Cek Correlation\n",
    "import seaborn as sns\n",
    "import matplotlib.pyplot as plt\n",
    "plt.figure(figsize=(12,10))\n",
    "sns.heatmap(data.drop([\"LONGITUDE\",\"LATITUDE\",\"ADDRESS\"],axis=1).corr(), annot=True)"
   ]
  },
  {
   "cell_type": "code",
   "execution_count": null,
   "metadata": {},
   "outputs": [],
   "source": [
    "corr = data.corr()\n",
    "corr['TARGET(PRICE_IN_LACS)'].sort_values(ascending=False)"
   ]
  },
  {
   "cell_type": "code",
   "execution_count": null,
   "metadata": {},
   "outputs": [],
   "source": []
  },
  {
   "cell_type": "code",
   "execution_count": null,
   "metadata": {},
   "outputs": [],
   "source": [
    "# sns.countplot(data['POSTED_BY'])\n",
    "# data['POSTED_BY'].value_counts()\n",
    "ax=data['POSTED_BY'].value_counts().sort_values().plot(kind='bar',figsize=(10,5))\n",
    "for p in ax.patches:\n",
    "    ax.annotate(str(p.get_height()),(p.get_x()*1.1,p.get_height()*1.015))"
   ]
  },
  {
   "cell_type": "code",
   "execution_count": null,
   "metadata": {},
   "outputs": [],
   "source": [
    "# ax=data['CITY_ADDRESS'].value_counts().sort_values().plot(kind='hbar',figsize=(10,5))\n",
    "# for p in ax.patches:\n",
    "#     ax.annotate(str(p.get_height()),(p.get_x()*1.1,p.get_height()*1.015))"
   ]
  },
  {
   "cell_type": "code",
   "execution_count": null,
   "metadata": {},
   "outputs": [],
   "source": [
    "# sns.countplot(data['POSTED_BY'])\n",
    "# data['POSTED_BY'].value_counts()\n",
    "ax=data['CITY_ADDRESS'].value_counts().sort_values().plot(kind='bar',figsize=(20,5))\n",
    "for p in ax.patches:\n",
    "    ax.annotate(str(p.get_height()),(p.get_x()*1.1,p.get_height()*1.015))"
   ]
  },
  {
   "cell_type": "code",
   "execution_count": null,
   "metadata": {},
   "outputs": [],
   "source": [
    "data['CITY_ADDRESS'].unique()"
   ]
  },
  {
   "cell_type": "code",
   "execution_count": null,
   "metadata": {},
   "outputs": [],
   "source": [
    "# sns.countplot(data['BHK_OR_RK'])\n",
    "# data['BHK_OR_RK'].value_counts()\n",
    "ax=data['BHK_OR_RK'].value_counts().sort_values().plot(kind='bar',figsize=(10,5))\n",
    "for p in ax.patches:\n",
    "    ax.annotate(str(p.get_height()),(p.get_x()*1.1,p.get_height()*1.015))"
   ]
  },
  {
   "cell_type": "code",
   "execution_count": null,
   "metadata": {},
   "outputs": [],
   "source": [
    "# sns.countplot(data['UNDER_CONSTRUCTION'])\n",
    "ax=data['UNDER_CONSTRUCTION'].value_counts().sort_values().plot(kind='bar',figsize=(10,5))\n",
    "for p in ax.patches:\n",
    "    ax.annotate(str(p.get_height()),(p.get_x()*1.1,p.get_height()*1.015))"
   ]
  },
  {
   "cell_type": "code",
   "execution_count": null,
   "metadata": {},
   "outputs": [],
   "source": [
    "# sns.countplot(data['RERA'])\n",
    "ax=data['RERA'].value_counts().sort_values().plot(kind='bar',figsize=(10,5))\n",
    "for p in ax.patches:\n",
    "    ax.annotate(str(p.get_height()),(p.get_x()*1.1,p.get_height()*1.015))"
   ]
  },
  {
   "cell_type": "code",
   "execution_count": null,
   "metadata": {},
   "outputs": [],
   "source": [
    "# sns.countplot(data['BHK_NO.'])\n",
    "ax=data['BHK_NO.'].value_counts().sort_values().plot(kind='bar',figsize=(10,5))\n",
    "for p in ax.patches:\n",
    "    ax.annotate(str(p.get_height()),(p.get_x()*0.999,p.get_height()*1.015))"
   ]
  },
  {
   "cell_type": "code",
   "execution_count": null,
   "metadata": {},
   "outputs": [],
   "source": [
    "# sns.countplot(data['READY_TO_MOVE'])\n",
    "# data['READY_TO_MOVE'].value_counts()\n",
    "ax=data['READY_TO_MOVE'].value_counts().sort_values().plot(kind='bar',figsize=(10,5))\n",
    "for p in ax.patches:\n",
    "    ax.annotate(str(p.get_height()),(p.get_x()*1.1,p.get_height()*1.015))"
   ]
  },
  {
   "cell_type": "code",
   "execution_count": null,
   "metadata": {},
   "outputs": [],
   "source": [
    "# sns.countplot(data['RESALE'])\n",
    "# data['RESALE'].value_counts()\n",
    "ax=data['RESALE'].value_counts().sort_values().plot(kind='bar',figsize=(10,5))\n",
    "for p in ax.patches:\n",
    "    ax.annotate(str(p.get_height()),(p.get_x()*1.1,p.get_height()*1.015))"
   ]
  },
  {
   "cell_type": "code",
   "execution_count": null,
   "metadata": {},
   "outputs": [],
   "source": [
    "data.head()"
   ]
  },
  {
   "cell_type": "code",
   "execution_count": null,
   "metadata": {},
   "outputs": [],
   "source": [
    "data_proses = data.drop(columns = ['POSTED_BY','LONGITUDE','LATITUDE','CITY_ADDRESS','ADDRESS','BHK_OR_RK'])"
   ]
  },
  {
   "cell_type": "code",
   "execution_count": null,
   "metadata": {},
   "outputs": [],
   "source": [
    "data.head(1)"
   ]
  },
  {
   "cell_type": "code",
   "execution_count": null,
   "metadata": {},
   "outputs": [],
   "source": [
    "# data['BHK_OR_RK']"
   ]
  },
  {
   "cell_type": "code",
   "execution_count": null,
   "metadata": {},
   "outputs": [],
   "source": [
    "df_bhk = pd.get_dummies(data['BHK_OR_RK'])\n",
    "df_bhk.head()"
   ]
  },
  {
   "cell_type": "code",
   "execution_count": null,
   "metadata": {},
   "outputs": [],
   "source": [
    "data_proses['BHK'] = df_bhk['BHK']\n",
    "data_proses['RK'] = df_bhk['RK']"
   ]
  },
  {
   "cell_type": "code",
   "execution_count": null,
   "metadata": {},
   "outputs": [],
   "source": [
    "data_proses[['BHK','RK']].head()"
   ]
  },
  {
   "cell_type": "code",
   "execution_count": null,
   "metadata": {},
   "outputs": [],
   "source": [
    "data_proses"
   ]
  },
  {
   "cell_type": "markdown",
   "metadata": {},
   "source": [
    "#### Menentukan data input dan target"
   ]
  },
  {
   "cell_type": "code",
   "execution_count": null,
   "metadata": {},
   "outputs": [],
   "source": [
    "x = data_proses.drop(columns = ['TARGET(PRICE_IN_LACS)']).values\n",
    "y = data_proses['TARGET(PRICE_IN_LACS)'].values"
   ]
  },
  {
   "cell_type": "code",
   "execution_count": null,
   "metadata": {},
   "outputs": [],
   "source": [
    "data.info()"
   ]
  },
  {
   "cell_type": "markdown",
   "metadata": {},
   "source": [
    "#### Membagi data train dan test"
   ]
  },
  {
   "cell_type": "code",
   "execution_count": null,
   "metadata": {},
   "outputs": [],
   "source": [
    "x_train, x_test, y_train, y_test = train_test_split(x,y,test_size=0.2,random_state=2)\n",
    "print('Dimensi data x_train dan x_test adalah {} dan {}'.format(x_train.shape,x_test.shape))\n",
    "print('Dimensi data y_train dan y_test adalah {} dan {}'.format(y_train.shape,y_test.shape))"
   ]
  },
  {
   "cell_type": "code",
   "execution_count": null,
   "metadata": {},
   "outputs": [],
   "source": [
    "x_test"
   ]
  },
  {
   "cell_type": "markdown",
   "metadata": {},
   "source": [
    "### Model Development"
   ]
  },
  {
   "cell_type": "markdown",
   "metadata": {},
   "source": [
    "#### Random Forest Regressor"
   ]
  },
  {
   "cell_type": "code",
   "execution_count": null,
   "metadata": {},
   "outputs": [],
   "source": [
    "model1 = RandomForestRegressor()\n",
    "model1.fit(x_train,y_train)\n",
    "yhat1 = model1.predict(x_test)"
   ]
  },
  {
   "cell_type": "markdown",
   "metadata": {},
   "source": [
    "#### Menghitung error dan score dari model"
   ]
  },
  {
   "cell_type": "code",
   "execution_count": null,
   "metadata": {},
   "outputs": [],
   "source": [
    "algoritma = []\n",
    "mae = []\n",
    "mse = []\n",
    "r_square = []\n",
    "\n",
    "def error_score(yhat1,model):\n",
    "    MAE_RFR = round(metrics.mean_absolute_error(yhat1,y_test),2)\n",
    "    MSE_RFR = round(np.mean((yhat1-y_test)**2),2)\n",
    "    R2 = round(metrics.r2_score(yhat1,y_test),2)\n",
    "    \n",
    "    algoritma.append(str(model).split('(')[0])\n",
    "    mae.append(MAE_RFR)\n",
    "    mse.append(MSE_RFR)\n",
    "    r_square.append(R2)\n",
    "    \n",
    "    print('Nilai Mean Absolute Error nya adalah {}'.format(MAE_RFR))\n",
    "    print('Nilai Mean Square Error nya adalah {}'.format(MSE_RFR))\n",
    "    print('Nilai R2-Score nya adalah {}'.format(R2))"
   ]
  },
  {
   "cell_type": "code",
   "execution_count": null,
   "metadata": {},
   "outputs": [],
   "source": [
    "error_score(yhat1,model1)"
   ]
  },
  {
   "cell_type": "code",
   "execution_count": null,
   "metadata": {},
   "outputs": [],
   "source": [
    "def pred_real(yhat1):\n",
    "    fig = plt.figure()\n",
    "    ax = fig.add_axes([0,0,1,1])\n",
    "    ax.plot(yhat1, label = 'Nilai Prediksi', color = 'blue')\n",
    "    ax.plot(y_test, label = 'Nilai Asli', color = 'red')\n",
    "    ax.set_title('Perbandingan Nilai Prediksi dan Asli')\n",
    "    ax.grid(alpha=0.5)\n",
    "    ax.legend()\n",
    "\n",
    "pred_real(yhat1)"
   ]
  },
  {
   "cell_type": "code",
   "execution_count": null,
   "metadata": {},
   "outputs": [],
   "source": [
    "def pred_real_1(yhat1):\n",
    "    ax = sns.distplot(y_test, hist=False, color='r', label='Actual value')\n",
    "    sns.distplot(yhat1, hist=False, color='b', label='predicted value', ax=ax)\n",
    "\n",
    "pred_real_1(yhat1)"
   ]
  },
  {
   "cell_type": "markdown",
   "metadata": {},
   "source": [
    "#### Linear Regression"
   ]
  },
  {
   "cell_type": "code",
   "execution_count": null,
   "metadata": {},
   "outputs": [],
   "source": [
    "from sklearn.linear_model import LinearRegression\n",
    "reg = LinearRegression()\n",
    "reg.fit(x_train,y_train)\n",
    "y_pred = reg.predict(x_test)"
   ]
  },
  {
   "cell_type": "code",
   "execution_count": null,
   "metadata": {},
   "outputs": [],
   "source": [
    "error_score(y_pred,reg)"
   ]
  },
  {
   "cell_type": "code",
   "execution_count": null,
   "metadata": {},
   "outputs": [],
   "source": [
    "pred_real(y_pred)"
   ]
  },
  {
   "cell_type": "code",
   "execution_count": null,
   "metadata": {},
   "outputs": [],
   "source": [
    "pred_real_1(y_pred)"
   ]
  },
  {
   "cell_type": "markdown",
   "metadata": {},
   "source": [
    "#### Decision Tree Regressor"
   ]
  },
  {
   "cell_type": "code",
   "execution_count": null,
   "metadata": {},
   "outputs": [],
   "source": [
    "from sklearn.tree import DecisionTreeRegressor\n",
    "dtr = DecisionTreeRegressor()\n",
    "dtr.fit(x_train,y_train)\n",
    "y_pred = dtr.predict(x_test)"
   ]
  },
  {
   "cell_type": "code",
   "execution_count": null,
   "metadata": {},
   "outputs": [],
   "source": [
    "error_score(y_pred,dtr)"
   ]
  },
  {
   "cell_type": "code",
   "execution_count": null,
   "metadata": {},
   "outputs": [],
   "source": [
    "pred_real(y_pred)"
   ]
  },
  {
   "cell_type": "code",
   "execution_count": null,
   "metadata": {},
   "outputs": [],
   "source": [
    "pred_real_1(y_pred)"
   ]
  },
  {
   "cell_type": "markdown",
   "metadata": {},
   "source": [
    "#### Support Vector Regressor"
   ]
  },
  {
   "cell_type": "code",
   "execution_count": null,
   "metadata": {},
   "outputs": [],
   "source": [
    "from sklearn import svm\n",
    "svr = svm.SVR()\n",
    "svr.fit(x_train,y_train)\n",
    "y_pred = svr.predict(x_test)"
   ]
  },
  {
   "cell_type": "code",
   "execution_count": null,
   "metadata": {},
   "outputs": [],
   "source": [
    "error_score(y_pred,svr)"
   ]
  },
  {
   "cell_type": "code",
   "execution_count": null,
   "metadata": {},
   "outputs": [],
   "source": [
    "pred_real(y_pred)"
   ]
  },
  {
   "cell_type": "code",
   "execution_count": null,
   "metadata": {},
   "outputs": [],
   "source": [
    "pred_real_1(y_pred)"
   ]
  },
  {
   "cell_type": "code",
   "execution_count": null,
   "metadata": {},
   "outputs": [],
   "source": [
    "df_summary = pd.DataFrame({'Algoritma' : algoritma, 'MAE' : mae, 'MSE' : mse, 'R2' : r_square})\n",
    "df_summary"
   ]
  },
  {
   "cell_type": "code",
   "execution_count": null,
   "metadata": {},
   "outputs": [],
   "source": []
  },
  {
   "cell_type": "code",
   "execution_count": null,
   "metadata": {},
   "outputs": [],
   "source": []
  }
 ],
 "metadata": {
  "kernelspec": {
   "display_name": "Python 3",
   "language": "python",
   "name": "python3"
  },
  "language_info": {
   "codemirror_mode": {
    "name": "ipython",
    "version": 3
   },
   "file_extension": ".py",
   "mimetype": "text/x-python",
   "name": "python",
   "nbconvert_exporter": "python",
   "pygments_lexer": "ipython3",
   "version": "3.8.3"
  }
 },
 "nbformat": 4,
 "nbformat_minor": 2
}
